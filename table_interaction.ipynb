{
 "cells": [
  {
   "cell_type": "code",
   "execution_count": 1,
   "metadata": {},
   "outputs": [],
   "source": [
    "import pandas as pd\n",
    "import psycopg2\n",
    "import datetime\n"
   ]
  },
  {
   "cell_type": "code",
   "execution_count": 2,
   "metadata": {},
   "outputs": [],
   "source": [
    "connection = psycopg2.connect(\n",
    "    host = 'localhost',\n",
    "    port = '5432', \n",
    "    database = 'mydb', \n",
    "    user = 'postgres', \n",
    "    password = 'hB7fhr,4ds;v', \n",
    ")\n",
    "cursor = connection.cursor()\n",
    "query = '''\n",
    "    CREATE TABLE users (\n",
    "        id SERIAL PRIMARY KEY,                          \n",
    "        username VARCHAR(50) UNIQUE NOT NULL,          \n",
    "        email VARCHAR(100) UNIQUE NOT NULL,            \n",
    "        password_hash TEXT NOT NULL,                   \n",
    "        first_name VARCHAR(50),                         \n",
    "        last_name VARCHAR(50),                                      \n",
    "        role VARCHAR(20) DEFAULT \\'user\\',               \n",
    "        created_at TIMESTAMP DEFAULT CURRENT_TIMESTAMP\n",
    "    )'''\n",
    "cursor.execute(query)\n",
    "# commit the changes to the database\n",
    "connection.commit()"
   ]
  },
  {
   "cell_type": "code",
   "execution_count": 3,
   "metadata": {},
   "outputs": [],
   "source": [
    "connection.close()"
   ]
  },
  {
   "cell_type": "code",
   "execution_count": 30,
   "metadata": {},
   "outputs": [
    {
     "name": "stdout",
     "output_type": "stream",
     "text": [
      "(1, 'dummy_username', 'example123@gmail.com', 'passwordhashed', 'dummy', 'username', 'user', datetime.datetime(2025, 1, 3, 2, 47, 19, 308125))\n"
     ]
    }
   ],
   "source": [
    "query = 'SELECT * FROM users'\n",
    "cursor.execute(query)\n",
    "result = cursor.fetchall()\n",
    "for row in result:\n",
    "    print(row)\n"
   ]
  },
  {
   "cell_type": "code",
   "execution_count": 16,
   "metadata": {},
   "outputs": [
    {
     "name": "stdout",
     "output_type": "stream",
     "text": [
      "Time is: 2025-01-03 02:47:19.308125\n",
      "Dummy user inserted successfully.\n"
     ]
    }
   ],
   "source": [
    "import psycopg2\n",
    "from datetime import datetime\n",
    "\n",
    "\n",
    "# Define the query to insert a dummy user\n",
    "query = '''\n",
    "    INSERT INTO users (username, email, password_hash, first_name, last_name, role, created_at)\n",
    "    VALUES (%s, %s, %s, %s, %s, %s, %s)\n",
    "'''\n",
    "\n",
    "# Current timestamp\n",
    "time = datetime.now()\n",
    "print(\"Time is:\", time)\n",
    "\n",
    "# Dummy user data\n",
    "dummy_user = (\n",
    "    'dummy_username',           # username\n",
    "    'example123@gmail.com',     # email\n",
    "    'passwordhashed',           # password_hash\n",
    "    'dummy',                    # first_name\n",
    "    'username',                 # last_name\n",
    "    'user',                     # role\n",
    "    time                        # created_at\n",
    ")\n",
    "\n",
    "# Execute the query\n",
    "cursor.execute(query, dummy_user)\n",
    "\n",
    "# Commit the changes\n",
    "connection.commit()\n",
    "print(\"Dummy user inserted successfully.\")\n",
    "\n",
    "# Close the cursor and connection\n",
    "# cursor.close()\n",
    "# connection.close()\n"
   ]
  }
 ],
 "metadata": {
  "kernelspec": {
   "display_name": ".venv",
   "language": "python",
   "name": "python3"
  },
  "language_info": {
   "codemirror_mode": {
    "name": "ipython",
    "version": 3
   },
   "file_extension": ".py",
   "mimetype": "text/x-python",
   "name": "python",
   "nbconvert_exporter": "python",
   "pygments_lexer": "ipython3",
   "version": "3.12.3"
  }
 },
 "nbformat": 4,
 "nbformat_minor": 2
}
